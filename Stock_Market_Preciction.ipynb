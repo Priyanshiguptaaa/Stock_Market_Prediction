{
  "nbformat": 4,
  "nbformat_minor": 0,
  "metadata": {
    "colab": {
      "name": "Stock_Market_Preciction.ipynb",
      "provenance": [],
      "authorship_tag": "ABX9TyNBGvioCkLDlDo7oLvsVAjI",
      "include_colab_link": true
    },
    "kernelspec": {
      "name": "python3",
      "display_name": "Python 3"
    }
  },
  "cells": [
    {
      "cell_type": "markdown",
      "metadata": {
        "id": "view-in-github",
        "colab_type": "text"
      },
      "source": [
        "<a href=\"https://colab.research.google.com/github/Priyanshiguptaaa/Stock_Market_Prediction/blob/main/Stock_Market_Preciction.ipynb\" target=\"_parent\"><img src=\"https://colab.research.google.com/assets/colab-badge.svg\" alt=\"Open In Colab\"/></a>"
      ]
    },
    {
      "cell_type": "code",
      "metadata": {
        "colab": {
          "base_uri": "https://localhost:8080/"
        },
        "id": "5wbMSTMnBHBM",
        "outputId": "17994689-1432-45aa-8d06-377908059ef4"
      },
      "source": [
        "from google.colab import drive\n",
        "drive.mount('/content/gdrive')"
      ],
      "execution_count": 1,
      "outputs": [
        {
          "output_type": "stream",
          "text": [
            "Mounted at /content/gdrive\n"
          ],
          "name": "stdout"
        }
      ]
    },
    {
      "cell_type": "code",
      "metadata": {
        "id": "974N5rWLBO8v"
      },
      "source": [
        "import os\n",
        "os.environ['KAGGLE_CONFIG_DIR'] = \"/content/gdrive/My Drive/Kaggle\"\n",
        "# /content/gdrive/My Drive/Kaggle is the path where kaggle.json is present in the Google Drive"
      ],
      "execution_count": 2,
      "outputs": []
    },
    {
      "cell_type": "code",
      "metadata": {
        "colab": {
          "base_uri": "https://localhost:8080/",
          "height": 53
        },
        "id": "qOy6qJmRBeBJ",
        "outputId": "bd13b03e-e59d-4195-d096-cca12159282f"
      },
      "source": [
        "#changing the working directory\n",
        "%cd /content/gdrive/My Drive/Kaggle\n",
        "#Check the present working directory using pwd command\n",
        "%pwd"
      ],
      "execution_count": 4,
      "outputs": [
        {
          "output_type": "stream",
          "text": [
            "/content/gdrive/My Drive/Kaggle\n"
          ],
          "name": "stdout"
        },
        {
          "output_type": "execute_result",
          "data": {
            "application/vnd.google.colaboratory.intrinsic+json": {
              "type": "string"
            },
            "text/plain": [
              "'/content/gdrive/My Drive/Kaggle'"
            ]
          },
          "metadata": {
            "tags": []
          },
          "execution_count": 4
        }
      ]
    },
    {
      "cell_type": "code",
      "metadata": {
        "colab": {
          "base_uri": "https://localhost:8080/"
        },
        "id": "vMsmhQKlBlKh",
        "outputId": "6b81b9fa-edc3-44e5-970a-2bd1d388506d"
      },
      "source": [
        "!kaggle datasets download -d rohanrao/nifty50-stock-market-data"
      ],
      "execution_count": 5,
      "outputs": [
        {
          "output_type": "stream",
          "text": [
            "Downloading nifty50-stock-market-data.zip to /content/gdrive/My Drive/Kaggle\n",
            " 72% 13.0M/18.0M [00:00<00:00, 44.2MB/s]\n",
            "100% 18.0M/18.0M [00:00<00:00, 60.1MB/s]\n"
          ],
          "name": "stdout"
        }
      ]
    },
    {
      "cell_type": "code",
      "metadata": {
        "colab": {
          "base_uri": "https://localhost:8080/"
        },
        "id": "WN8CpXdyB82T",
        "outputId": "3f2bce58-01ed-43f5-f132-5017fafa5ba7"
      },
      "source": [
        "!ls"
      ],
      "execution_count": 6,
      "outputs": [
        {
          "output_type": "stream",
          "text": [
            "kaggle.json  nifty50-stock-market-data.zip\n"
          ],
          "name": "stdout"
        }
      ]
    },
    {
      "cell_type": "code",
      "metadata": {
        "colab": {
          "base_uri": "https://localhost:8080/"
        },
        "id": "SgMzCiUjCDeM",
        "outputId": "5e3e75a1-838f-48d6-c22b-43f7ac98d2b7"
      },
      "source": [
        "#unzipping the zip files and deleting the zip files\n",
        "!unzip \\*.zip  && rm *.zip"
      ],
      "execution_count": 7,
      "outputs": [
        {
          "output_type": "stream",
          "text": [
            "Archive:  nifty50-stock-market-data.zip\n",
            "  inflating: ADANIPORTS.csv          \n",
            "  inflating: ASIANPAINT.csv          \n",
            "  inflating: AXISBANK.csv            \n",
            "  inflating: BAJAJ-AUTO.csv          \n",
            "  inflating: BAJAJFINSV.csv          \n",
            "  inflating: BAJFINANCE.csv          \n",
            "  inflating: BHARTIARTL.csv          \n",
            "  inflating: BPCL.csv                \n",
            "  inflating: BRITANNIA.csv           \n",
            "  inflating: CIPLA.csv               \n",
            "  inflating: COALINDIA.csv           \n",
            "  inflating: DRREDDY.csv             \n",
            "  inflating: EICHERMOT.csv           \n",
            "  inflating: GAIL.csv                \n",
            "  inflating: GRASIM.csv              \n",
            "  inflating: HCLTECH.csv             \n",
            "  inflating: HDFC.csv                \n",
            "  inflating: HDFCBANK.csv            \n",
            "  inflating: HEROMOTOCO.csv          \n",
            "  inflating: HINDALCO.csv            \n",
            "  inflating: HINDUNILVR.csv          \n",
            "  inflating: ICICIBANK.csv           \n",
            "  inflating: INDUSINDBK.csv          \n",
            "  inflating: INFRATEL.csv            \n",
            "  inflating: INFY.csv                \n",
            "  inflating: IOC.csv                 \n",
            "  inflating: ITC.csv                 \n",
            "  inflating: JSWSTEEL.csv            \n",
            "  inflating: KOTAKBANK.csv           \n",
            "  inflating: LT.csv                  \n",
            "  inflating: MARUTI.csv              \n",
            "  inflating: MM.csv                  \n",
            "  inflating: NESTLEIND.csv           \n",
            "  inflating: NIFTY50_all.csv         \n",
            "  inflating: NTPC.csv                \n",
            "  inflating: ONGC.csv                \n",
            "  inflating: POWERGRID.csv           \n",
            "  inflating: RELIANCE.csv            \n",
            "  inflating: SBIN.csv                \n",
            "  inflating: SHREECEM.csv            \n",
            "  inflating: SUNPHARMA.csv           \n",
            "  inflating: TATAMOTORS.csv          \n",
            "  inflating: TATASTEEL.csv           \n",
            "  inflating: TCS.csv                 \n",
            "  inflating: TECHM.csv               \n",
            "  inflating: TITAN.csv               \n",
            "  inflating: ULTRACEMCO.csv          \n",
            "  inflating: UPL.csv                 \n",
            "  inflating: VEDL.csv                \n",
            "  inflating: WIPRO.csv               \n",
            "  inflating: ZEEL.csv                \n",
            "  inflating: stock_metadata.csv      \n"
          ],
          "name": "stdout"
        }
      ]
    },
    {
      "cell_type": "code",
      "metadata": {
        "id": "hmGJKqEsCHJA"
      },
      "source": [
        ""
      ],
      "execution_count": null,
      "outputs": []
    }
  ]
}